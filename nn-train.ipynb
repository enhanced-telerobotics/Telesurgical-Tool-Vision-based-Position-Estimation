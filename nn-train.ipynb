{
 "cells": [
  {
   "attachments": {},
   "cell_type": "markdown",
   "metadata": {},
   "source": [
    "# import libs"
   ]
  },
  {
   "cell_type": "code",
   "execution_count": null,
   "metadata": {},
   "outputs": [],
   "source": [
    "import os\n",
    "import numpy as np\n",
    "import pandas as pd\n",
    "import torch\n",
    "from train import TwoInputFCNN as FCNN\n"
   ]
  },
  {
   "attachments": {},
   "cell_type": "markdown",
   "metadata": {},
   "source": [
    "# import data"
   ]
  },
  {
   "cell_type": "code",
   "execution_count": null,
   "metadata": {},
   "outputs": [],
   "source": [
    "# paths pre-setting\n",
    "data_root = '/home/ysy/ERIE/single_psm_manipulation_dataset/output'\n",
    "model_root = '/home/ysy/ERIE/videos'\n",
    "model_name = 'DLC_resnet50_TrackJun13shuffle1_50000'\n"
   ]
  },
  {
   "cell_type": "code",
   "execution_count": null,
   "metadata": {},
   "outputs": [],
   "source": [
    "# pre setting training sets\n",
    "training_sets = ['C_M1_T1_1', 'C_M1_T1_3', 'C_M1_T1_5', 'C_M1_T1_7', \n",
    "                 'R2_M1_T1_1', 'R2_M1_T1_3', 'R2_M1_T1_5', 'R2_M1_T1_7', \n",
    "                 'L2_M1_T1_1', 'L2_M1_T1_3', 'L2_M1_T1_5', 'L2_M1_T1_7', \n",
    "                 'Z2_M1_T1_1', 'Z2_M1_T1_3', 'Z2_M1_T1_5']\n",
    "\n",
    "# initial arrays\n",
    "X_train_L = np.zeros((0, 16))\n",
    "X_train_R = np.zeros((0, 16))\n",
    "y_train = np.zeros((0, 3))\n",
    "\n",
    "for set in training_sets:\n",
    "    # load from files\n",
    "    labels = np.genfromtxt(os.path.join(\n",
    "        data_root, set, 'labels_30hz.txt'), delimiter=',')\n",
    "    coordinates_L = pd.read_hdf(os.path.join(\n",
    "        model_root, f'{set}_L_h264{model_name}.h5'))\n",
    "    coordinates_R = pd.read_hdf(os.path.join(\n",
    "        model_root, f'{set}_R_h264{model_name}.h5'))\n",
    "\n",
    "    # unify size\n",
    "    frames = min(len(labels), len(coordinates_L), len(coordinates_R))\n",
    "\n",
    "    # drop and convert\n",
    "    X_train_L = np.vstack((X_train_L,\n",
    "                          coordinates_L.filter(\n",
    "                              regex='^(?!.*likelihood).*$', axis=1).to_numpy()[:frames]))\n",
    "    X_train_R = np.vstack((X_train_R,\n",
    "                          coordinates_L.filter(\n",
    "                              regex='^(?!.*likelihood).*$', axis=1).to_numpy()[:frames]))\n",
    "    y_train = np.vstack((y_train, labels[:frames, 6:9]))\n"
   ]
  },
  {
   "cell_type": "code",
   "execution_count": null,
   "metadata": {},
   "outputs": [],
   "source": [
    "X_train_L.shape, X_train_R.shape, y_train.shape"
   ]
  },
  {
   "attachments": {},
   "cell_type": "markdown",
   "metadata": {},
   "source": [
    "# Trainning"
   ]
  },
  {
   "cell_type": "code",
   "execution_count": null,
   "metadata": {},
   "outputs": [],
   "source": [
    "device = torch.device('cuda' if torch.cuda.is_available() else 'cpu')\n",
    "net = FCNN(input_dim=X_train_L.shape[1], hidden_dim=64, output_dim=y_train.shape[1], device=device)\n",
    "net.train(X_train_R, X_train_L, y_train, epochs=1000)\n"
   ]
  },
  {
   "attachments": {},
   "cell_type": "markdown",
   "metadata": {},
   "source": [
    "# Testing"
   ]
  },
  {
   "cell_type": "code",
   "execution_count": null,
   "metadata": {},
   "outputs": [],
   "source": [
    "# pre setting training sets\n",
    "test_sets = ['C_M1_T1_2', 'C_M1_T1_4',\n",
    "             'R2_M1_T1_2', 'R2_M1_T1_4',\n",
    "             'L2_M1_T1_2', 'L2_M1_T1_4',\n",
    "             'Z2_M1_T1_2',]\n",
    "\n",
    "# initial arrays\n",
    "X_test_L = np.zeros((0, 16))\n",
    "X_test_R = np.zeros((0, 16))\n",
    "y_test = np.zeros((0, 3))\n",
    "\n",
    "for set in test_sets:\n",
    "    # load from files\n",
    "    labels = np.genfromtxt(os.path.join(\n",
    "        data_root, set, 'labels_30hz.txt'), delimiter=',')\n",
    "    coordinates_L = pd.read_hdf(os.path.join(\n",
    "        model_root, f'{set}_L_h264{model_name}.h5'))\n",
    "    coordinates_R = pd.read_hdf(os.path.join(\n",
    "        model_root, f'{set}_R_h264{model_name}.h5'))\n",
    "\n",
    "    # unify size\n",
    "    frames = min(len(labels), len(coordinates_L), len(coordinates_R))\n",
    "\n",
    "    # drop and convert\n",
    "    X_test_L = np.vstack((X_test_L,\n",
    "                          coordinates_L.filter(\n",
    "                              regex='^(?!.*likelihood).*$', axis=1).to_numpy()[:frames]))\n",
    "    X_test_R = np.vstack((X_test_R,\n",
    "                          coordinates_L.filter(\n",
    "                              regex='^(?!.*likelihood).*$', axis=1).to_numpy()[:frames]))\n",
    "    y_test = np.vstack((y_test, labels[:frames, 6:9]))\n"
   ]
  },
  {
   "cell_type": "code",
   "execution_count": null,
   "metadata": {},
   "outputs": [],
   "source": [
    "X_test_L.shape, X_test_R.shape, y_test.shape"
   ]
  },
  {
   "cell_type": "code",
   "execution_count": null,
   "metadata": {},
   "outputs": [],
   "source": [
    "from sklearn.metrics import mean_squared_error\n",
    "\n",
    "y_pred = net.predict(X_test_R, X_test_L)\n",
    "\n",
    "mse = mean_squared_error(y_test, y_pred)\n",
    "print(f'Mean Squared Error on test data: {mse}')"
   ]
  }
 ],
 "metadata": {
  "kernelspec": {
   "display_name": "Python 3 (ipykernel)",
   "language": "python",
   "name": "python3"
  },
  "language_info": {
   "codemirror_mode": {
    "name": "ipython",
    "version": 3
   },
   "file_extension": ".py",
   "mimetype": "text/x-python",
   "name": "python",
   "nbconvert_exporter": "python",
   "pygments_lexer": "ipython3",
   "version": "3.10.11"
  }
 },
 "nbformat": 4,
 "nbformat_minor": 4
}
