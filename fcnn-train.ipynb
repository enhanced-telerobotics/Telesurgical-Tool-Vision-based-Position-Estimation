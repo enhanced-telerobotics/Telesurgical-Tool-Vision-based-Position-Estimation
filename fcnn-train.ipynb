{
 "cells": [
  {
   "attachments": {},
   "cell_type": "markdown",
   "metadata": {},
   "source": [
    "# import libs"
   ]
  },
  {
   "cell_type": "code",
   "execution_count": null,
   "metadata": {
    "notebookRunGroups": {
     "groupValue": "1"
    }
   },
   "outputs": [],
   "source": [
    "import os\n",
    "import socket\n",
    "import numpy as np\n",
    "import pandas as pd\n",
    "import torch\n",
    "from tqdm import tqdm\n",
    "from FCNN import TwoInputFCNN as FCNN\n",
    "from sklearn.preprocessing import MinMaxScaler\n"
   ]
  },
  {
   "attachments": {},
   "cell_type": "markdown",
   "metadata": {},
   "source": [
    "# import data"
   ]
  },
  {
   "cell_type": "code",
   "execution_count": null,
   "metadata": {
    "notebookRunGroups": {
     "groupValue": "1"
    }
   },
   "outputs": [],
   "source": [
    "# paths pre-setting\n",
    "if 'gput' in socket.gethostname() or 'hpc' in socket.gethostname():\n",
    "    label_root = '/home/sxy841/ERIE/silicone/output'\n",
    "    model_root = '/home/sxy841/ERIE/silicone/Track-Shuyuan-2023-06-13/videos'\n",
    "else:\n",
    "    label_root = '/home/ysy/ERIE/single_psm_manipulation_dataset/output'\n",
    "    model_root = '/home/ysy/ERIE/Track-Shuyuan-2023-06-13/videos'\n",
    "\n",
    "model_name = 'DLC_resnet50_TrackJun13shuffle1_50000'\n"
   ]
  },
  {
   "cell_type": "code",
   "execution_count": null,
   "metadata": {},
   "outputs": [],
   "source": [
    "# pre setting training sets\n",
    "training_sets = ['C_M1_T1_4', 'C_M1_T1_7', 'C_M1_T1_3', 'C_M1_T1_6',\n",
    "                 'R2_M1_T1_6', 'R2_M1_T1_7', 'R2_M1_T1_3', 'R2_M1_T1_5',\n",
    "                 'L2_M1_T1_3', 'L2_M1_T1_4', 'L2_M1_T1_5', 'L2_M1_T1_7',\n",
    "                 'Z2_M1_T1_1', 'M3_Z2_NF', 'M5_Z2_NF', 'M12_Z2_NF']\n",
    "\n",
    "# initial arrays\n",
    "X_train_L = np.zeros((0, 16))\n",
    "X_train_R = np.zeros((0, 16))\n",
    "y_train = np.zeros((0, 3))\n",
    "\n",
    "for set in tqdm(training_sets):\n",
    "    # load from files\n",
    "    labels = np.genfromtxt(os.path.join(\n",
    "        label_root, set, 'labels_30hz.txt'), delimiter=',')\n",
    "    coordinates_L = pd.read_hdf(os.path.join(\n",
    "        model_root, f'{set}_L_h264{model_name}.h5'))\n",
    "    coordinates_R = pd.read_hdf(os.path.join(\n",
    "        model_root, f'{set}_R_h264{model_name}.h5'))\n",
    "\n",
    "    # unify size\n",
    "    frames = min(len(labels), len(coordinates_L), len(coordinates_R))\n",
    "\n",
    "    # drop and convert\n",
    "    coordinates_L = coordinates_L.filter(\n",
    "        regex='^(?!.*likelihood).*$', axis=1).to_numpy()[:frames]\n",
    "    coordinates_R = coordinates_R.filter(\n",
    "        regex='^(?!.*likelihood).*$', axis=1).to_numpy()[:frames]\n",
    "    labels = labels[:frames, 7:10]\n",
    "\n",
    "    X_train_L = np.vstack(\n",
    "        (X_train_L, MinMaxScaler().fit_transform(coordinates_L)))\n",
    "    X_train_R = np.vstack(\n",
    "        (X_train_R, MinMaxScaler().fit_transform(coordinates_R)))\n",
    "    y_train = np.vstack((y_train, MinMaxScaler().fit_transform(labels)))\n"
   ]
  },
  {
   "cell_type": "code",
   "execution_count": null,
   "metadata": {},
   "outputs": [],
   "source": [
    "X_train_L.shape, X_train_R.shape, y_train.shape"
   ]
  },
  {
   "cell_type": "code",
   "execution_count": null,
   "metadata": {},
   "outputs": [],
   "source": [
    "# pre setting validation sets\n",
    "val_sets = ['C_M1_T1_1', 'C_M1_T1_5', 'R2_M1_T1_2', 'R2_M1_T1_4',\n",
    "            'L2_M1_T1_6', 'L2_M1_T1_1', 'Z2_M1_T1_2', 'M7_Z2_NF']\n",
    "\n",
    "# initial arrays\n",
    "X_val_L = np.zeros((0, 16))\n",
    "X_val_R = np.zeros((0, 16))\n",
    "y_val = np.zeros((0, 3))\n",
    "\n",
    "for set in tqdm(val_sets):\n",
    "    # load from files\n",
    "    labels = np.genfromtxt(os.path.join(\n",
    "        label_root, set, 'labels_30hz.txt'), delimiter=',')\n",
    "    coordinates_L = pd.read_hdf(os.path.join(\n",
    "        model_root, f'{set}_L_h264{model_name}.h5'))\n",
    "    coordinates_R = pd.read_hdf(os.path.join(\n",
    "        model_root, f'{set}_R_h264{model_name}.h5'))\n",
    "\n",
    "    # unify size\n",
    "    frames = min(len(labels), len(coordinates_L), len(coordinates_R))\n",
    "\n",
    "    # drop and convert\n",
    "    coordinates_L = coordinates_L.filter(\n",
    "        regex='^(?!.*likelihood).*$', axis=1).to_numpy()[:frames]\n",
    "    coordinates_R = coordinates_R.filter(\n",
    "        regex='^(?!.*likelihood).*$', axis=1).to_numpy()[:frames]\n",
    "    labels = labels[:frames, 7:10]\n",
    "\n",
    "    X_val_L = np.vstack(\n",
    "        (X_val_L, MinMaxScaler().fit_transform(coordinates_L)))\n",
    "    X_val_R = np.vstack(\n",
    "        (X_val_R, MinMaxScaler().fit_transform(coordinates_R)))\n",
    "    y_val = np.vstack((y_val, MinMaxScaler().fit_transform(labels)))\n"
   ]
  },
  {
   "cell_type": "code",
   "execution_count": null,
   "metadata": {},
   "outputs": [],
   "source": [
    "X_val_L.shape, X_val_R.shape, y_val.shape"
   ]
  },
  {
   "attachments": {},
   "cell_type": "markdown",
   "metadata": {},
   "source": [
    "# Trainning and validation"
   ]
  },
  {
   "cell_type": "code",
   "execution_count": null,
   "metadata": {},
   "outputs": [],
   "source": [
    "device = torch.device('cuda' if torch.cuda.is_available() else 'cpu')\n",
    "net = FCNN(input_dim=X_train_L.shape[1], hidden_dim=16, output_dim=y_train.shape[1],\n",
    "           device=device, weights=[0.5, 1.0, 0.5], num_hidden_layers=4, batch_size=32,\n",
    "            l2_reg=1e-4, lr=0.0001, random_seed=42)\n",
    "net.train(X_train_R, X_train_L, y_train, X_val_R, X_val_L,\n",
    "          y_val, epochs=100, use_tqdm=True, save_loss=True)\n"
   ]
  },
  {
   "cell_type": "markdown",
   "metadata": {},
   "source": [
    "# Retrieve model"
   ]
  },
  {
   "cell_type": "code",
   "execution_count": null,
   "metadata": {
    "notebookRunGroups": {
     "groupValue": "2"
    }
   },
   "outputs": [],
   "source": [
    "net_name = input()"
   ]
  },
  {
   "cell_type": "code",
   "execution_count": null,
   "metadata": {
    "notebookRunGroups": {
     "groupValue": "2"
    }
   },
   "outputs": [],
   "source": [
    "import json\n",
    "\n",
    "with open(f'results/losses_{net_name}.json', 'r') as f:\n",
    "    params = json.load(f)\n",
    "\n",
    "input_dim = params[\"input_dim\"]\n",
    "hidden_dim = params[\"hidden_dim\"]\n",
    "output_dim = params[\"output_dim\"]\n",
    "device = torch.device('cuda' if torch.cuda.is_available() else 'cpu')\n",
    "weights = params[\"weights\"]\n",
    "num_hidden_layers = params[\"num_hidden_layers\"]\n",
    "lr = params[\"lr\"]\n",
    "batch_size = params[\"batch_size\"]\n",
    "random_seed = params[\"random_seed\"]\n",
    "\n",
    "net = FCNN(input_dim=input_dim, hidden_dim=hidden_dim, output_dim=output_dim,\n",
    "           device=device, weights=weights, num_hidden_layers=num_hidden_layers,\n",
    "           batch_size=batch_size, lr=lr, random_seed=random_seed)\n"
   ]
  },
  {
   "cell_type": "code",
   "execution_count": null,
   "metadata": {
    "notebookRunGroups": {
     "groupValue": "2"
    }
   },
   "outputs": [],
   "source": [
    "net.load_state_dict(torch.load(\n",
    "    f'models/best_model_{net_name}.pth', map_location=device))\n"
   ]
  },
  {
   "cell_type": "markdown",
   "metadata": {},
   "source": [
    "# Test"
   ]
  },
  {
   "cell_type": "code",
   "execution_count": null,
   "metadata": {},
   "outputs": [],
   "source": [
    "# pre setting test sets\n",
    "test_sets = ['C_M1_T1_8', 'M1_NF', 'M2_NF', 'R1_M1_T1_1',\n",
    "             'R1_M1_T1_2', 'R3_M1_T1_1', 'R3_M1_T1_2', 'L1_M1_T1_1',\n",
    "             'L1_M1_T1_2', 'L3_M1_T1_1', 'L3_M1_T1_2', 'Z1_M1_T1_1',\n",
    "             'Z3_M1_T1_1', 'R2_M1_T1_8', 'M3_R2_NF', 'M5_R2_NF',\n",
    "             'M5_L2_NF', 'M3_L2_NF', 'M7_L2_NF', 'Z2_M1_T1_5',\n",
    "             'M7_Z2_NF', 'M8_Z2_NF']\n",
    "\n",
    "for set in test_sets:\n",
    "    # load from files\n",
    "    labels = np.genfromtxt(os.path.join(\n",
    "        label_root, set, 'labels_30hz.txt'), delimiter=',')\n",
    "    coordinates_L = pd.read_hdf(os.path.join(\n",
    "        model_root, f'{set}_L_h264{model_name}.h5'))\n",
    "    coordinates_R = pd.read_hdf(os.path.join(\n",
    "        model_root, f'{set}_R_h264{model_name}.h5'))\n",
    "\n",
    "    # unify size\n",
    "    frames = min(len(labels), len(coordinates_L), len(coordinates_R))\n",
    "\n",
    "    # drop and convert\n",
    "    coordinates_L = coordinates_L.filter(\n",
    "        regex='^(?!.*likelihood).*$', axis=1).to_numpy()[:frames]\n",
    "    coordinates_R = coordinates_R.filter(\n",
    "        regex='^(?!.*likelihood).*$', axis=1).to_numpy()[:frames]\n",
    "    labels = labels[:frames, 7:10]\n",
    "\n",
    "    X_test_L = MinMaxScaler().fit_transform(coordinates_L)\n",
    "    X_test_R = MinMaxScaler().fit_transform(coordinates_R)\n",
    "    y_test = MinMaxScaler().fit_transform(labels)\n",
    "    y_pred = net.predict(X_test_R, X_test_L)\n",
    "\n",
    "    # save prediction\n",
    "    # np.savetxt(f\"labels/{set}.txt\", y_pred, delimiter=\",\")\n",
    "\n",
    "    print(f\"Plot {set}: \")\n",
    "\n",
    "    import matplotlib.pyplot as plt\n",
    "    fig, ax = plt.subplots(3, 1, figsize=(10, 10))\n",
    "    titles = ['x', 'y', 'z']\n",
    "    for i in range(3):\n",
    "        ax[i].plot(range(y_test.shape[0]), y_test[:, i],\n",
    "                   color='black', label='actual')\n",
    "        ax[i].plot(range(y_test.shape[0]), y_pred[:, i],\n",
    "                   color='red', label='predict')\n",
    "        ax[i].legend()\n",
    "        ax[i].set_title(f'Position for {titles[i]} over frames')\n",
    "    plt.tight_layout()\n",
    "    plt.show()\n"
   ]
  },
  {
   "attachments": {},
   "cell_type": "markdown",
   "metadata": {},
   "source": [
    "# Demos"
   ]
  },
  {
   "cell_type": "code",
   "execution_count": null,
   "metadata": {},
   "outputs": [],
   "source": [
    "import json\n",
    "import matplotlib.pyplot as plt\n",
    "import glob\n",
    "import numpy as np\n",
    "\n",
    "\n",
    "def plot_loss(filter_params=None):\n",
    "    # Get a list of files that match the pattern\n",
    "    files = glob.glob('results/*.json')\n",
    "\n",
    "    # Dimension names\n",
    "    dim_names = ['x', 'y', 'z', 'Mean']\n",
    "\n",
    "    # Determine the number of subplots from the loss dimension\n",
    "    with open(files[0], 'r') as f:\n",
    "        data = json.load(f)\n",
    "    losses = data['losses'][0]  # Take first loss array as an example\n",
    "    num_subplots = len(losses)  # Include plot for the mean loss\n",
    "\n",
    "    # Create a subplot for each loss dimension\n",
    "    fig, axs = plt.subplots(num_subplots, figsize=(12, 6 * num_subplots))\n",
    "\n",
    "    # Ensure axs is a list even when num_subplots = 1\n",
    "    if num_subplots == 1:\n",
    "        axs = [axs]\n",
    "\n",
    "    # List to store parameters of the files that passed the filter\n",
    "    filtered_params_list = []\n",
    "    files_passed_filter = []\n",
    "\n",
    "    # Loop over each file\n",
    "    for filename in files:\n",
    "        # Load the data from the JSON file\n",
    "        with open(filename, 'r') as f:\n",
    "            data = json.load(f)\n",
    "\n",
    "        # Extract the training parameters from the data\n",
    "        params = {k: v for k, v in data.items() if k != 'losses'}\n",
    "\n",
    "        # If filter is not None, skip this file if it does not match the filter\n",
    "        if filter_params is not None and not all(item in params.items() for item in filter_params.items()):\n",
    "            continue\n",
    "\n",
    "        # If the file passed the filter, add its parameters and filename to the list\n",
    "        if filter_params is None or all(item in params.items() for item in filter_params.items()):\n",
    "            filtered_params_list.append(params)\n",
    "            files_passed_filter.append(filename)\n",
    "\n",
    "    # Determine common parameters\n",
    "    common_params = filtered_params_list[0].copy()\n",
    "    for params in filtered_params_list[1:]:\n",
    "        keys_to_delete = []\n",
    "        for k in common_params.keys():\n",
    "            if common_params[k] != params[k]:\n",
    "                keys_to_delete.append(k)\n",
    "        for k in keys_to_delete:\n",
    "            common_params.pop(k)\n",
    "\n",
    "    # Loop over each file again to plot the data\n",
    "    for params, filename in zip(filtered_params_list, files_passed_filter):\n",
    "        # Load the data from the JSON file\n",
    "        with open(filename, 'r') as f:\n",
    "            data = json.load(f)\n",
    "\n",
    "        # Extract the unique training parameters for this file\n",
    "        unique_params = {k: v for k,\n",
    "                         v in params.items() if k not in common_params}\n",
    "\n",
    "        # Create a label for this line from the unique training parameters\n",
    "        label = ', '.join(f'{key}: {value}' for key,\n",
    "                          value in unique_params.items())\n",
    "\n",
    "        # Extract loss values\n",
    "        losses = data['losses']\n",
    "\n",
    "        # Plot the loss values for each dimension\n",
    "        for j in range(num_subplots):\n",
    "            axs[j].plot([loss[j] for loss in losses], label=label)\n",
    "            axs[j].set_title(f'Loss for {dim_names[j]} over iterations')\n",
    "            axs[j].set_xlabel('Iteration')\n",
    "            axs[j].set_ylabel('Loss')\n",
    "            axs[j].grid(True)\n",
    "            axs[j].legend()\n",
    "\n",
    "    plt.tight_layout()\n",
    "    plt.show()\n"
   ]
  },
  {
   "cell_type": "markdown",
   "metadata": {},
   "source": [
    "bench parameters: \n",
    "\n",
    "{\"input_dim\": 16, \"hidden_dim\": 64, \"output_dim\": 3, \"device\": \"cuda\", \"num_hidden_layers\": 2, \"lr\": 0.001, \"batch_size\": 32}"
   ]
  },
  {
   "cell_type": "code",
   "execution_count": null,
   "metadata": {},
   "outputs": [],
   "source": [
    "plot_loss()"
   ]
  },
  {
   "cell_type": "code",
   "execution_count": null,
   "metadata": {},
   "outputs": [],
   "source": [
    "plot_loss(filter_params={\"weights\": [0.5, 1.0, 0.5]})"
   ]
  },
  {
   "cell_type": "code",
   "execution_count": null,
   "metadata": {},
   "outputs": [],
   "source": [
    "# 绘制直方图\n",
    "plt.hist(y_train, bins=30, edgecolor='black', label=['x', 'y', 'z'])\n",
    "\n",
    "# 添加标题和标签\n",
    "plt.title(\"Histogram\")\n",
    "plt.xlabel(\"Value\")\n",
    "plt.ylabel(\"Frequency\")\n",
    "\n",
    "# 添加图例\n",
    "plt.legend()\n",
    "\n",
    "# 显示图形\n",
    "plt.show()\n",
    "# 绘制箱线图\n",
    "plt.boxplot(y_train, showfliers=False)\n",
    "\n",
    "# 添加标题和标签\n",
    "plt.title(\"Box Plot\")\n",
    "plt.xlabel(\"Data\")\n",
    "\n",
    "# 显示图形\n",
    "plt.show()"
   ]
  }
 ],
 "metadata": {
  "kernelspec": {
   "display_name": "Python 3 (ipykernel)",
   "language": "python",
   "name": "python3"
  },
  "language_info": {
   "codemirror_mode": {
    "name": "ipython",
    "version": 3
   },
   "file_extension": ".py",
   "mimetype": "text/x-python",
   "name": "python",
   "nbconvert_exporter": "python",
   "pygments_lexer": "ipython3",
   "version": "3.9.5"
  }
 },
 "nbformat": 4,
 "nbformat_minor": 4
}
