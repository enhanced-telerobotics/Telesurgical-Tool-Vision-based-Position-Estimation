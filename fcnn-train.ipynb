{
 "cells": [
  {
   "attachments": {},
   "cell_type": "markdown",
   "metadata": {},
   "source": [
    "# import libs"
   ]
  },
  {
   "cell_type": "code",
   "execution_count": null,
   "metadata": {},
   "outputs": [],
   "source": [
    "import os\n",
    "import socket\n",
    "import numpy as np\n",
    "import pandas as pd\n",
    "import matplotlib.pyplot as plt\n",
    "import torch\n",
    "from tqdm import tqdm\n",
    "from FCNN import TwoInputFCNN as FCNN\n"
   ]
  },
  {
   "attachments": {},
   "cell_type": "markdown",
   "metadata": {},
   "source": [
    "# import data"
   ]
  },
  {
   "cell_type": "code",
   "execution_count": null,
   "metadata": {},
   "outputs": [],
   "source": [
    "# paths pre-setting\n",
    "if 'gput' in socket.gethostname() or 'hpc' in socket.gethostname():\n",
    "    label_root = '/home/sxy841/ERIE/silicone/output'\n",
    "    model_root = '/home/sxy841/ERIE/silicone/Track-Shuyuan-2023-06-13/videos'\n",
    "else:\n",
    "    label_root = '/home/ysy/ERIE/single_psm_manipulation_dataset/output'\n",
    "    model_root = '/home/ysy/ERIE/videos'\n",
    "\n",
    "model_name = 'DLC_resnet50_TrackJun13shuffle1_50000'\n",
    "\n"
   ]
  },
  {
   "cell_type": "code",
   "execution_count": null,
   "metadata": {},
   "outputs": [],
   "source": [
    "# pre setting training sets\n",
    "training_sets = ['C_M1_T1_1', 'C_M1_T1_3', 'C_M1_T1_5', 'C_M1_T1_7', \n",
    "                 'R2_M1_T1_1', 'R2_M1_T1_3', 'R2_M1_T1_5', 'R2_M1_T1_7', \n",
    "                 'L2_M1_T1_1', 'L2_M1_T1_3', 'L2_M1_T1_5', 'L2_M1_T1_7', \n",
    "                 'Z2_M1_T1_1', 'Z2_M1_T1_3', 'Z2_M1_T1_5']\n",
    "\n",
    "# initial arrays\n",
    "X_train_L = np.zeros((0, 16))\n",
    "X_train_R = np.zeros((0, 16))\n",
    "y_train = np.zeros((0, 3))\n",
    "\n",
    "for set in tqdm(training_sets):\n",
    "    # load from files\n",
    "    labels = np.genfromtxt(os.path.join(\n",
    "        label_root, set, 'labels_30hz.txt'), delimiter=',')\n",
    "    coordinates_L = pd.read_hdf(os.path.join(\n",
    "        model_root, f'{set}_L_h264{model_name}.h5'))\n",
    "    coordinates_R = pd.read_hdf(os.path.join(\n",
    "        model_root, f'{set}_R_h264{model_name}.h5'))\n",
    "\n",
    "    # unify size\n",
    "    frames = min(len(labels), len(coordinates_L), len(coordinates_R))\n",
    "\n",
    "    # drop and convert\n",
    "    X_train_L = np.vstack((X_train_L,\n",
    "                          coordinates_L.filter(\n",
    "                              regex='^(?!.*likelihood).*$', axis=1).to_numpy()[:frames]))\n",
    "    X_train_R = np.vstack((X_train_R,\n",
    "                          coordinates_L.filter(\n",
    "                              regex='^(?!.*likelihood).*$', axis=1).to_numpy()[:frames]))\n",
    "    y_train = np.vstack((y_train, labels[:frames, 6:9]))\n",
    "\n",
    "\n",
    "from sklearn.preprocessing import StandardScaler, MinMaxScaler, MaxAbsScaler, RobustScaler\n",
    "X_scaler = MinMaxScaler()\n",
    "X_train_L = X_scaler.fit_transform(X_train_L)\n",
    "X_train_R = X_scaler.transform(X_train_R)\n",
    "\n",
    "y_scaler = MinMaxScaler()\n",
    "y_train = y_scaler.fit_transform(y_train)\n",
    "\n"
   ]
  },
  {
   "cell_type": "code",
   "execution_count": null,
   "metadata": {},
   "outputs": [],
   "source": [
    "X_train_L.shape, X_train_R.shape, y_train.shape"
   ]
  },
  {
   "cell_type": "code",
   "execution_count": null,
   "metadata": {},
   "outputs": [],
   "source": [
    "# pre setting validation sets\n",
    "test_sets = ['C_M1_T1_2', 'C_M1_T1_4',\n",
    "             'R2_M1_T1_2', 'R2_M1_T1_4',\n",
    "             'L2_M1_T1_2', 'L2_M1_T1_4',\n",
    "             'Z2_M1_T1_2',]\n",
    "\n",
    "# initial arrays\n",
    "X_val_L = np.zeros((0, 16))\n",
    "X_val_R = np.zeros((0, 16))\n",
    "y_val = np.zeros((0, 3))\n",
    "\n",
    "for set in tqdm(test_sets):\n",
    "    # load from files\n",
    "    labels = np.genfromtxt(os.path.join(\n",
    "        label_root, set, 'labels_30hz.txt'), delimiter=',')\n",
    "    coordinates_L = pd.read_hdf(os.path.join(\n",
    "        model_root, f'{set}_L_h264{model_name}.h5'))\n",
    "    coordinates_R = pd.read_hdf(os.path.join(\n",
    "        model_root, f'{set}_R_h264{model_name}.h5'))\n",
    "\n",
    "    # unify size\n",
    "    frames = min(len(labels), len(coordinates_L), len(coordinates_R))\n",
    "\n",
    "    # drop and convert\n",
    "    X_val_L = np.vstack((X_val_L,\n",
    "                          coordinates_L.filter(\n",
    "                              regex='^(?!.*likelihood).*$', axis=1).to_numpy()[:frames]))\n",
    "    X_val_R = np.vstack((X_val_R,\n",
    "                          coordinates_L.filter(\n",
    "                              regex='^(?!.*likelihood).*$', axis=1).to_numpy()[:frames]))\n",
    "    y_val = np.vstack((y_val, labels[:frames, 6:9]))\n",
    "\n",
    "X_val_L = X_scaler.transform(X_val_L)\n",
    "X_val_R = X_scaler.transform(X_val_R)\n",
    "y_val = y_scaler.transform(y_val)\n"
   ]
  },
  {
   "cell_type": "code",
   "execution_count": null,
   "metadata": {},
   "outputs": [],
   "source": [
    "X_val_L.shape, X_val_R.shape, y_val.shape"
   ]
  },
  {
   "attachments": {},
   "cell_type": "markdown",
   "metadata": {},
   "source": [
    "# Trainning and validation"
   ]
  },
  {
   "cell_type": "code",
   "execution_count": null,
   "metadata": {},
   "outputs": [],
   "source": [
    "device = torch.device('cuda' if torch.cuda.is_available() else 'cpu')\n",
    "\n",
    "for i in range(2,7,2):\n",
    "    print(i)\n",
    "    net = FCNN(input_dim=X_train_L.shape[1], hidden_dim=64, output_dim=y_train.shape[1], device=device, num_hidden_layers=i, batch_size=32)\n",
    "    net.train(X_train_R, X_train_L, y_train, X_val_R, X_val_L, y_val, epochs=100, use_tqdm=False, save_loss=True)\n"
   ]
  },
  {
   "attachments": {},
   "cell_type": "markdown",
   "metadata": {},
   "source": [
    "# Demos"
   ]
  },
  {
   "cell_type": "code",
   "execution_count": null,
   "metadata": {},
   "outputs": [],
   "source": [
    "import json\n",
    "import matplotlib.pyplot as plt\n",
    "import glob\n",
    "import numpy as np\n",
    "\n",
    "def plot_loss(filter_params=None):\n",
    "    # Get a list of files that match the pattern\n",
    "    files = glob.glob('results/params_and_losses*.json')\n",
    "\n",
    "    # Dimension names\n",
    "    dim_names = ['x', 'y', 'z', 'Mean']\n",
    "\n",
    "    # Determine the number of subplots from the loss dimension\n",
    "    with open(files[0], 'r') as f:\n",
    "        data = json.load(f)\n",
    "    losses = data['losses'][0]  # Take first loss array as an example\n",
    "    num_subplots = len(losses)  # Include plot for the mean loss\n",
    "\n",
    "    # Create a subplot for each loss dimension\n",
    "    fig, axs = plt.subplots(num_subplots, figsize=(12, 6 * num_subplots))\n",
    "\n",
    "    # Ensure axs is a list even when num_subplots = 1\n",
    "    if num_subplots == 1:\n",
    "        axs = [axs]\n",
    "\n",
    "    # List to store parameters of the files that passed the filter\n",
    "    filtered_params_list = []\n",
    "\n",
    "    # Loop over each file\n",
    "    for filename in files:\n",
    "        # Load the data from the JSON file\n",
    "        with open(filename, 'r') as f:\n",
    "            data = json.load(f)\n",
    "\n",
    "        # Extract the training parameters from the data\n",
    "        params = {k: v for k, v in data.items() if k != 'losses'}\n",
    "\n",
    "        # If filter is not None, skip this file if it does not match the filter\n",
    "        if filter_params is not None and not all(item in params.items() for item in filter_params.items()):\n",
    "            continue\n",
    "\n",
    "        # If the file passed the filter, add its parameters to the list\n",
    "        filtered_params_list.append(params)\n",
    "\n",
    "    # Determine common parameters\n",
    "    common_params = filtered_params_list[0].copy()\n",
    "    for params in filtered_params_list[1:]:\n",
    "        keys_to_delete = []\n",
    "        for k in common_params.keys():\n",
    "            if common_params[k] != params[k]:\n",
    "                keys_to_delete.append(k)\n",
    "        for k in keys_to_delete:\n",
    "            common_params.pop(k)\n",
    "\n",
    "    # Loop over each file again to plot the data\n",
    "    for i, filename in enumerate(files):\n",
    "        # Load the data from the JSON file\n",
    "        with open(filename, 'r') as f:\n",
    "            data = json.load(f)\n",
    "\n",
    "        # Extract the unique training parameters for this file\n",
    "        unique_params = {k: v for k, v in filtered_params_list[i].items() if k not in common_params}\n",
    "\n",
    "        # Create a label for this line from the unique training parameters\n",
    "        label = ', '.join(f'{key}: {value}' for key, value in unique_params.items())\n",
    "\n",
    "        # Extract loss values\n",
    "        losses = data['losses']\n",
    "\n",
    "        # Plot the loss values for each dimension\n",
    "        for j in range(num_subplots):\n",
    "            axs[j].plot([loss[j] for loss in losses], label=label)\n",
    "            axs[j].set_title(f'Loss for {dim_names[j]} over iterations')\n",
    "            axs[j].set_xlabel('Iteration')\n",
    "            axs[j].set_ylabel('Loss')\n",
    "            axs[j].grid(True)\n",
    "            axs[j].legend()\n",
    "\n",
    "    plt.tight_layout()\n",
    "    plt.show()\n"
   ]
  },
  {
   "cell_type": "code",
   "execution_count": null,
   "metadata": {},
   "outputs": [],
   "source": [
    "plot_loss(filter_params={\"lr\": 0.001, \"batch_size\": 32})"
   ]
  },
  {
   "cell_type": "code",
   "execution_count": null,
   "metadata": {},
   "outputs": [],
   "source": [
    "plot_loss(filter_params={\"num_hidden_layers\": 2})"
   ]
  }
 ],
 "metadata": {
  "kernelspec": {
   "display_name": "Python 3 (ipykernel)",
   "language": "python",
   "name": "python3"
  },
  "language_info": {
   "codemirror_mode": {
    "name": "ipython",
    "version": 3
   },
   "file_extension": ".py",
   "mimetype": "text/x-python",
   "name": "python",
   "nbconvert_exporter": "python",
   "pygments_lexer": "ipython3",
   "version": "3.10.11"
  }
 },
 "nbformat": 4,
 "nbformat_minor": 4
}
