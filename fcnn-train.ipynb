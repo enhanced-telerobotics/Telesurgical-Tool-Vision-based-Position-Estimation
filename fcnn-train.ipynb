{
 "cells": [
  {
   "attachments": {},
   "cell_type": "markdown",
   "metadata": {},
   "source": [
    "# import libs"
   ]
  },
  {
   "cell_type": "code",
   "execution_count": null,
   "metadata": {
    "notebookRunGroups": {
     "groupValue": "1"
    }
   },
   "outputs": [],
   "source": [
    "import os\n",
    "import numpy as np\n",
    "import pandas as pd\n",
    "import torch\n",
    "from tqdm import tqdm\n",
    "from FCNN import TwoInputFCNN as FCNN\n",
    "from sklearn.preprocessing import MinMaxScaler\n"
   ]
  },
  {
   "cell_type": "code",
   "execution_count": null,
   "metadata": {
    "notebookRunGroups": {
     "groupValue": "1"
    }
   },
   "outputs": [],
   "source": [
    "random_seed = 42\n",
    "\n",
    "torch.manual_seed(random_seed)\n",
    "torch.cuda.manual_seed(random_seed)\n",
    "np.random.seed(random_seed)"
   ]
  },
  {
   "attachments": {},
   "cell_type": "markdown",
   "metadata": {},
   "source": [
    "# import data"
   ]
  },
  {
   "cell_type": "code",
   "execution_count": null,
   "metadata": {
    "notebookRunGroups": {
     "groupValue": "1"
    }
   },
   "outputs": [],
   "source": [
    "# paths pre-setting\n",
    "label_root = f'/home/{os.getlogin()}/ERIE/silicone/output'\n",
    "model_root = f'/home/{os.getlogin()}/ERIE/silicone/Track-Shuyuan-2023-08-13/videos'\n",
    "model_name = 'DLC_resnet50_TrackAug13shuffle1_50000'\n"
   ]
  },
  {
   "cell_type": "code",
   "execution_count": null,
   "metadata": {},
   "outputs": [],
   "source": [
    "# pre setting training sets\n",
    "training_sets = ['C_M1_T1_4', 'C_M1_T1_7', 'C_M1_T1_3', 'C_M1_T1_6',\n",
    "                 'R2_M1_T1_6', 'R2_M1_T1_7', 'R2_M1_T1_3', 'R2_M1_T1_5',\n",
    "                 'L2_M1_T1_3', 'L2_M1_T1_4', 'L2_M1_T1_5', 'L2_M1_T1_7',\n",
    "                 'Z2_M1_T1_1', 'M3_Z2_NF', 'M5_Z2_NF', 'M12_Z2_NF']\n",
    "\n",
    "# initial arrays\n",
    "X_train_L = np.zeros((0, 16))\n",
    "X_train_R = np.zeros((0, 16))\n",
    "y_train = np.zeros((0, 3))\n",
    "\n",
    "for set in tqdm(training_sets):\n",
    "    # load from files\n",
    "    labels = np.genfromtxt(os.path.join(\n",
    "        label_root, set, 'labels_30hz.txt'), delimiter=',')\n",
    "    coordinates_L = pd.read_hdf(os.path.join(\n",
    "        model_root, f'{set}_L_h264{model_name}.h5'))\n",
    "    coordinates_R = pd.read_hdf(os.path.join(\n",
    "        model_root, f'{set}_R_h264{model_name}.h5'))\n",
    "\n",
    "    # unify size\n",
    "    frames = min(len(labels), len(coordinates_L), len(coordinates_R))\n",
    "\n",
    "    # drop and convert\n",
    "    coordinates_L = coordinates_L.filter(\n",
    "        regex='^(?!.*likelihood).*$', axis=1).to_numpy()[:frames]\n",
    "    coordinates_R = coordinates_R.filter(\n",
    "        regex='^(?!.*likelihood).*$', axis=1).to_numpy()[:frames]\n",
    "    labels = labels[:frames, 7:10]\n",
    "\n",
    "    X_train_L = np.vstack(\n",
    "        (X_train_L, MinMaxScaler().fit_transform(coordinates_L)))\n",
    "    X_train_R = np.vstack(\n",
    "        (X_train_R, MinMaxScaler().fit_transform(coordinates_R)))\n",
    "    y_train = np.vstack((y_train, MinMaxScaler().fit_transform(labels)))\n"
   ]
  },
  {
   "cell_type": "code",
   "execution_count": null,
   "metadata": {},
   "outputs": [],
   "source": [
    "X_train_L.shape, X_train_R.shape, y_train.shape"
   ]
  },
  {
   "cell_type": "code",
   "execution_count": null,
   "metadata": {},
   "outputs": [],
   "source": [
    "# pre setting validation sets\n",
    "val_sets = ['C_M1_T1_1', 'C_M1_T1_5', 'R2_M1_T1_2', 'R2_M1_T1_4',\n",
    "            'L2_M1_T1_6', 'L2_M1_T1_1', 'Z2_M1_T1_2', 'M7_Z2_NF']\n",
    "\n",
    "# initial arrays\n",
    "X_val_L = np.zeros((0, 16))\n",
    "X_val_R = np.zeros((0, 16))\n",
    "y_val = np.zeros((0, 3))\n",
    "\n",
    "for set in tqdm(val_sets):\n",
    "    # load from files\n",
    "    labels = np.genfromtxt(os.path.join(\n",
    "        label_root, set, 'labels_30hz.txt'), delimiter=',')\n",
    "    coordinates_L = pd.read_hdf(os.path.join(\n",
    "        model_root, f'{set}_L_h264{model_name}.h5'))\n",
    "    coordinates_R = pd.read_hdf(os.path.join(\n",
    "        model_root, f'{set}_R_h264{model_name}.h5'))\n",
    "\n",
    "    # unify size\n",
    "    frames = min(len(labels), len(coordinates_L), len(coordinates_R))\n",
    "\n",
    "    # drop and convert\n",
    "    coordinates_L = coordinates_L.filter(\n",
    "        regex='^(?!.*likelihood).*$', axis=1).to_numpy()[:frames]\n",
    "    coordinates_R = coordinates_R.filter(\n",
    "        regex='^(?!.*likelihood).*$', axis=1).to_numpy()[:frames]\n",
    "    labels = labels[:frames, 7:10]\n",
    "\n",
    "    X_val_L = np.vstack(\n",
    "        (X_val_L, MinMaxScaler().fit_transform(coordinates_L)))\n",
    "    X_val_R = np.vstack(\n",
    "        (X_val_R, MinMaxScaler().fit_transform(coordinates_R)))\n",
    "    y_val = np.vstack((y_val, MinMaxScaler().fit_transform(labels)))\n"
   ]
  },
  {
   "cell_type": "code",
   "execution_count": null,
   "metadata": {},
   "outputs": [],
   "source": [
    "X_val_L.shape, X_val_R.shape, y_val.shape"
   ]
  },
  {
   "attachments": {},
   "cell_type": "markdown",
   "metadata": {},
   "source": [
    "# Trainning and validation"
   ]
  },
  {
   "cell_type": "code",
   "execution_count": null,
   "metadata": {},
   "outputs": [],
   "source": [
    "device = torch.device('cuda' if torch.cuda.is_available() else 'cpu')\n",
    "net = FCNN(input_dim=X_train_L.shape[1], hidden_dim=16, output_dim=y_train.shape[1],\n",
    "           device=device, weights=[0.5, 1.0, 0.5], num_hidden_layers=4, batch_size=32,\n",
    "           l2_reg=0.0001, lr=0.0001, random_seed=42, message='silicone R')\n",
    "net.train(X_train_R, X_train_L, y_train, X_val_R, X_val_L,\n",
    "          y_val, epochs=200, use_tqdm=True, save_loss=True)\n"
   ]
  },
  {
   "cell_type": "code",
   "execution_count": null,
   "metadata": {},
   "outputs": [],
   "source": [
    "indices = np.random.permutation(len(X_train_R))\n",
    "\n",
    "X_train_R_shuffled = X_train_R[indices]\n",
    "X_train_L_shuffled = X_train_L[indices]\n",
    "y_train_shuffled = y_train[indices]"
   ]
  },
  {
   "cell_type": "code",
   "execution_count": null,
   "metadata": {},
   "outputs": [],
   "source": [
    "for percentage in [0.25, 0.5, 0.75, 1.0]:\n",
    "    end_idx = int(len(X_train_R_shuffled) * percentage)\n",
    "    X_train_R_slice = X_train_R_shuffled[:end_idx:45]\n",
    "    X_train_L_slice = X_train_L_shuffled[:end_idx:45]\n",
    "    y_train_slice = y_train_shuffled[:end_idx:45]\n",
    "\n",
    "    device = torch.device('cuda' if torch.cuda.is_available() else 'cpu')\n",
    "    net = FCNN(input_dim=X_train_L.shape[1], hidden_dim=16, output_dim=y_train.shape[1],\n",
    "               device=device, weights=[0.5, 1.0, 0.5], num_hidden_layers=4, batch_size=32,\n",
    "               l2_reg=0.0001, lr=0.0001, random_seed=42, \n",
    "               message=f\"Data usage: {percentage*100:.0f}%\")\n",
    "    net.train(X_train_R_slice, X_train_L_slice, y_train_slice, X_val_R, X_val_L,\n",
    "              y_val, epochs=200, use_tqdm=True, save_loss=True)\n"
   ]
  },
  {
   "cell_type": "markdown",
   "metadata": {},
   "source": [
    "# Retrieve model"
   ]
  },
  {
   "cell_type": "code",
   "execution_count": null,
   "metadata": {
    "notebookRunGroups": {
     "groupValue": "2"
    }
   },
   "outputs": [],
   "source": [
    "net_name = input()"
   ]
  },
  {
   "cell_type": "code",
   "execution_count": null,
   "metadata": {
    "notebookRunGroups": {
     "groupValue": "2"
    }
   },
   "outputs": [],
   "source": [
    "import json\n",
    "\n",
    "with open(f'results/losses_{net_name}.json', 'r') as f:\n",
    "    params = json.load(f)\n",
    "\n",
    "input_dim = params[\"input_dim\"]\n",
    "hidden_dim = params[\"hidden_dim\"]\n",
    "output_dim = params[\"output_dim\"]\n",
    "device = torch.device('cuda' if torch.cuda.is_available() else 'cpu')\n",
    "weights = params[\"weights\"]\n",
    "num_hidden_layers = params[\"num_hidden_layers\"]\n",
    "lr = params[\"lr\"]\n",
    "l2_reg = params[\"l2_reg\"]\n",
    "batch_size = params[\"batch_size\"]\n",
    "random_seed = params[\"random_seed\"]\n",
    "\n",
    "net = FCNN(input_dim=input_dim, hidden_dim=hidden_dim, output_dim=output_dim,\n",
    "           device=device, weights=weights, num_hidden_layers=num_hidden_layers,\n",
    "           batch_size=batch_size, lr=lr, l2_reg=l2_reg, random_seed=random_seed)\n"
   ]
  },
  {
   "cell_type": "code",
   "execution_count": null,
   "metadata": {
    "notebookRunGroups": {
     "groupValue": "2"
    }
   },
   "outputs": [],
   "source": [
    "net.load_state_dict(torch.load(\n",
    "    f'models/best_model_{net_name}.pth', map_location=device))\n"
   ]
  },
  {
   "cell_type": "markdown",
   "metadata": {},
   "source": [
    "# Test"
   ]
  },
  {
   "cell_type": "code",
   "execution_count": null,
   "metadata": {},
   "outputs": [],
   "source": [
    "# pre setting test sets\n",
    "test_sets = ['C_M1_T1_8', 'M1_NF', 'M2_NF', 'R1_M1_T1_1',\n",
    "             'R1_M1_T1_2', 'R3_M1_T1_1', 'R3_M1_T1_2', 'L1_M1_T1_1',\n",
    "             'L1_M1_T1_2', 'L3_M1_T1_1', 'L3_M1_T1_2', 'Z1_M1_T1_1',\n",
    "             'Z3_M1_T1_1', 'R2_M1_T1_8', 'M3_R2_NF', 'M5_R2_NF',\n",
    "             'M5_L2_NF', 'M3_L2_NF', 'M7_L2_NF', 'Z2_M1_T1_5',\n",
    "             'M9_Z2_NF', 'M8_Z2_NF']\n",
    "\n",
    "# initial arrays\n",
    "rmse = np.zeros((3, len(test_sets)))\n",
    "\n",
    "for i, set in enumerate(test_sets):\n",
    "    # load from files\n",
    "    labels = np.genfromtxt(os.path.join(\n",
    "        label_root, set, 'labels_30hz.txt'), delimiter=',')\n",
    "    coordinates_L = pd.read_hdf(os.path.join(\n",
    "        model_root, f'{set}_L_h264{model_name}.h5'))\n",
    "    coordinates_R = pd.read_hdf(os.path.join(\n",
    "        model_root, f'{set}_R_h264{model_name}.h5'))\n",
    "\n",
    "    # unify size\n",
    "    frames = min(len(labels), len(coordinates_L), len(coordinates_R))\n",
    "\n",
    "    # drop and convert\n",
    "    coordinates_L = coordinates_L.filter(\n",
    "        regex='^(?!.*likelihood).*$', axis=1).to_numpy()[:frames]\n",
    "    coordinates_R = coordinates_R.filter(\n",
    "        regex='^(?!.*likelihood).*$', axis=1).to_numpy()[:frames]\n",
    "    labels = labels[:frames, 7:10]\n",
    "\n",
    "    X_test_L = MinMaxScaler().fit_transform(coordinates_L)\n",
    "    X_test_R = MinMaxScaler().fit_transform(coordinates_R)\n",
    "    y_test = MinMaxScaler().fit_transform(labels)\n",
    "    y_pred = net.predict(X_test_R, X_test_L)\n",
    "\n",
    "    # save prediction\n",
    "    # np.savetxt(f\"labels/{set}_fcnn.txt\", y_pred, delimiter=\",\")\n",
    "\n",
    "    from sklearn.metrics import mean_squared_error\n",
    "    for axis in range(3):\n",
    "        rmse[axis, i] = mean_squared_error(y_test[:, axis], y_pred[:, axis], squared=False)\n",
    "\n",
    "    import matplotlib.pyplot as plt\n",
    "    fig, ax = plt.subplots(3, 1, figsize=(10, 8), sharex=True)\n",
    "    fig.suptitle(f\"Position - Time plot of imageset {set}\")\n",
    "    titles = ['X', 'Y', 'X']\n",
    "    fps = 30  # Frames per second\n",
    "    time_values = [i/fps for i in range(y_test.shape[0])]\n",
    "    for i in range(3):\n",
    "        ax[i].plot(time_values, y_test[:, i], color='black', label='actual')\n",
    "        ax[i].plot(time_values, y_pred[:, i], color='red', label='predict')\n",
    "        if i == 1:\n",
    "            ax[i].legend()\n",
    "        ax[i].set_ylabel(f'norm position {titles[i]}')\n",
    "        ax[i].set_xlim([0, np.max(time_values)])\n",
    "        ax[i].set_ylim([-0.1, 1.1])\n",
    "\n",
    "    # Set the x-label only for the bottom subplot\n",
    "    ax[-1].set_xlabel('Time (s)')\n",
    "\n",
    "    plt.tight_layout()\n",
    "    # plt.savefig(os.path.join(os.getcwd(), f'plots/{set}.pdf'), format='pdf')\n",
    "    import pickle\n",
    "    with open(os.path.join(os.getcwd(), f'plots/{set}_fcnn.pickle'), 'wb') as f:\n",
    "        pickle.dump(fig, f)\n",
    "    plt.close()\n"
   ]
  },
  {
   "cell_type": "code",
   "execution_count": null,
   "metadata": {},
   "outputs": [],
   "source": [
    "# Calculate mean and standard deviation of RMSE for all dimensions\n",
    "mean_rmse = np.mean(rmse, axis=1)\n",
    "std_rmse = np.std(rmse, axis=1)\n",
    "\n",
    "# Print mean and std for all dimensions\n",
    "print(\"Average RMSE (mean ± std):\")\n",
    "print(f\"{np.mean(mean_rmse):.3f} ± {np.mean(std_rmse):.3f}\")\n",
    "\n",
    "# Calculate mean and standard deviation of RMSE for each dimension and model\n",
    "dimensions = ['x', 'y', 'z']\n",
    "print(\"\\nRMSE (mean ± std) for each dimension:\")\n",
    "for i, dim in enumerate(dimensions):\n",
    "    print(f\"{dim}: {mean_rmse[i]:.3f} ± {std_rmse[i]:.3f}\")\n"
   ]
  }
 ],
 "metadata": {
  "kernelspec": {
   "display_name": "Python 3 (ipykernel)",
   "language": "python",
   "name": "python3"
  },
  "language_info": {
   "codemirror_mode": {
    "name": "ipython",
    "version": 3
   },
   "file_extension": ".py",
   "mimetype": "text/x-python",
   "name": "python",
   "nbconvert_exporter": "python",
   "pygments_lexer": "ipython3",
   "version": "3.9.5"
  }
 },
 "nbformat": 4,
 "nbformat_minor": 4
}
