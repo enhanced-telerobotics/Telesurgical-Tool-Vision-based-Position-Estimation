{
 "cells": [
  {
   "attachments": {},
   "cell_type": "markdown",
   "metadata": {},
   "source": [
    "# import libs"
   ]
  },
  {
   "cell_type": "code",
   "execution_count": null,
   "metadata": {},
   "outputs": [],
   "source": [
    "import os\n",
    "import socket\n",
    "import numpy as np\n",
    "import pandas as pd\n",
    "import matplotlib.pyplot as plt\n",
    "import torch\n",
    "from tqdm import tqdm\n",
    "from sklearn.preprocessing import MinMaxScaler\n",
    "from scipy.spatial.distance import cdist\n",
    "from GCN import GraphModel as GCN\n"
   ]
  },
  {
   "attachments": {},
   "cell_type": "markdown",
   "metadata": {},
   "source": [
    "# import data"
   ]
  },
  {
   "cell_type": "code",
   "execution_count": null,
   "metadata": {},
   "outputs": [],
   "source": [
    "# paths pre-setting\n",
    "if 'gput' in socket.gethostname() or 'hpc' in socket.gethostname():\n",
    "    label_root = '/home/sxy841/ERIE/silicone/output'\n",
    "    model_root = '/home/sxy841/ERIE/silicone/Track-Shuyuan-2023-06-13/videos'\n",
    "else:\n",
    "    label_root = '/home/ysy/ERIE/single_psm_manipulation_dataset/output'\n",
    "    model_root = '/home/ysy/ERIE/videos'\n",
    "\n",
    "model_name = 'DLC_resnet50_TrackJun13shuffle1_50000'\n",
    "\n"
   ]
  },
  {
   "cell_type": "code",
   "execution_count": null,
   "metadata": {},
   "outputs": [],
   "source": [
    "# pre setting edges sets\n",
    "edges = [(0,1),(0,2),(1,3),(2,3),(3,4),(3,5),(4,6),(5,7),\n",
    "         (8,9),(8,10),(9,11),(10,11),(11,12),(11,13),(12,14),(13,15)]\n",
    "\n",
    "edge_index = np.zeros((2, len(edges)), dtype=np.int64)\n",
    "\n",
    "for i, edge in enumerate(edges):\n",
    "    edge_index[:, i] = edge\n"
   ]
  },
  {
   "cell_type": "code",
   "execution_count": null,
   "metadata": {},
   "outputs": [],
   "source": [
    "# pre setting training sets\n",
    "training_sets = ['C_M1_T1_1', 'C_M1_T1_3', 'C_M1_T1_5', 'C_M1_T1_7',\n",
    "                 'R2_M1_T1_1', 'R2_M1_T1_3', 'R2_M1_T1_5', 'R2_M1_T1_7',\n",
    "                 'L2_M1_T1_1', 'L2_M1_T1_3', 'L2_M1_T1_5', 'L2_M1_T1_7',\n",
    "                 'Z2_M1_T1_1', 'Z2_M1_T1_3', 'Z2_M1_T1_5']\n",
    "\n",
    "# initial arrays\n",
    "X_train = np.zeros((0, 34))\n",
    "y_train = np.zeros((0, 3))\n",
    "\n",
    "for set in tqdm(training_sets):\n",
    "    # load from files\n",
    "    labels = np.genfromtxt(os.path.join(\n",
    "        label_root, set, 'labels_30hz.txt'), delimiter=',')\n",
    "    coordinates_L = pd.read_hdf(os.path.join(\n",
    "        model_root, f'{set}_L_h264{model_name}.h5'))\n",
    "    coordinates_R = pd.read_hdf(os.path.join(\n",
    "        model_root, f'{set}_R_h264{model_name}.h5'))\n",
    "\n",
    "    # unify size\n",
    "    frames = min(len(labels), len(coordinates_L), len(coordinates_R))\n",
    "\n",
    "    # drop and convert\n",
    "    coordinates_L = coordinates_L.filter(\n",
    "        regex='^(?!.*likelihood).*$', axis=1).to_numpy()[:frames]\n",
    "    coordinates_R = coordinates_R.filter(\n",
    "        regex='^(?!.*likelihood).*$', axis=1).to_numpy()[:frames]\n",
    "    labels = labels[:frames, 7:10]\n",
    "    coordinates = np.hstack(\n",
    "        (np.zeros((frames, 2)), coordinates_L, coordinates_R))\n",
    "\n",
    "    X_train = np.vstack((X_train, coordinates))\n",
    "    y_train = np.vstack((y_train, MinMaxScaler().fit_transform(labels)))\n",
    "\n",
    "distance_matrices = []\n",
    "for points in X_train.reshape(-1, 17, 2):\n",
    "    distances = cdist(points, points)\n",
    "    distance_matrices.append(distances)\n",
    "\n",
    "X_train = np.array(distance_matrices)\n"
   ]
  },
  {
   "cell_type": "code",
   "execution_count": null,
   "metadata": {},
   "outputs": [],
   "source": [
    "X_train.shape, edge_index.shape, y_train.shape"
   ]
  },
  {
   "attachments": {},
   "cell_type": "markdown",
   "metadata": {},
   "source": [
    "# Trainning and validation"
   ]
  },
  {
   "cell_type": "code",
   "execution_count": null,
   "metadata": {},
   "outputs": [],
   "source": [
    "device = torch.device('cuda' if torch.cuda.is_available() else 'cpu')\n",
    "model = GCN(X_train, edge_index, y_train, input_dim=17, hidden_dim=64, output_dim=3, batch_size=32, device=device)\n",
    "model.train(epochs=100, use_tqdm=True, save_loss=True)\n"
   ]
  },
  {
   "cell_type": "markdown",
   "metadata": {},
   "source": [
    "# Test"
   ]
  },
  {
   "cell_type": "code",
   "execution_count": null,
   "metadata": {},
   "outputs": [],
   "source": [
    "import json\n",
    "import matplotlib.pyplot as plt\n",
    "\n",
    "with open('results/losses_20230727_142246.json', 'r') as f:\n",
    "    data = json.load(f)\n",
    "\n",
    "losses = data['losses']\n",
    "\n",
    "plt.figure(figsize=(10, 6))\n",
    "plt.plot(range(len(losses)), losses)\n",
    "plt.xlabel('Epoch')\n",
    "plt.ylabel('Loss')\n",
    "plt.title('GCN Training Loss over Epochs')\n",
    "plt.grid(True)\n",
    "plt.show()"
   ]
  }
 ],
 "metadata": {
  "kernelspec": {
   "display_name": "Python 3 (ipykernel)",
   "language": "python",
   "name": "python3"
  },
  "language_info": {
   "codemirror_mode": {
    "name": "ipython",
    "version": 3
   },
   "file_extension": ".py",
   "mimetype": "text/x-python",
   "name": "python",
   "nbconvert_exporter": "python",
   "pygments_lexer": "ipython3",
   "version": "3.10.11"
  }
 },
 "nbformat": 4,
 "nbformat_minor": 4
}
